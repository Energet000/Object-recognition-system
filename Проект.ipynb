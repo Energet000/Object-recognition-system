{
 "cells": [
  {
   "cell_type": "code",
   "execution_count": 37,
   "id": "1dc5051b",
   "metadata": {},
   "outputs": [],
   "source": [
    "import cv2\n",
    "import numpy as np\n",
    "from IPython.display import Image\n",
    "from IPython import display\n",
    "from matplotlib import pyplot\n",
    "import time"
   ]
  },
  {
   "cell_type": "code",
   "execution_count": 38,
   "id": "ef213045",
   "metadata": {},
   "outputs": [
    {
     "data": {
      "text/plain": [
       "['yolo_82', 'yolo_94', 'yolo_106']"
      ]
     },
     "execution_count": 38,
     "metadata": {},
     "output_type": "execute_result"
    }
   ],
   "source": [
    "# Подключение предобученной модели YOLO\n",
    "net = cv2.dnn.readNet('yolo/yolov3.weights','yolo/yolov3.cfg') \n",
    "# Считывание классов\n",
    "with open('yolo/coco.names.txt') as f:\n",
    "    labels = f.read().strip().split('\\n')\n",
    "# Получение всех выходных слоев    \n",
    "layer_names = net.getLayerNames()\n",
    "out_layers_indexes_arr = net.getUnconnectedOutLayers()\n",
    "out_layers_indexes = [index[0] - 1 for index in out_layers_indexes_arr]\n",
    "out_layers_names = [layer_names[index] for index in out_layers_indexes ]\n",
    "out_layers_names"
   ]
  },
  {
   "cell_type": "code",
   "execution_count": 39,
   "id": "fd858e2b",
   "metadata": {},
   "outputs": [],
   "source": [
    "# Прямоугольники, определяющие область с машинами на фото\n",
    "boxes = [\n",
    "    [30,400,500,740],\n",
    "    [500,385,800,740],\n",
    "    [800,430,1080,740]\n",
    "]"
   ]
  },
  {
   "cell_type": "code",
   "execution_count": 59,
   "id": "035be4b7",
   "metadata": {},
   "outputs": [],
   "source": [
    "def draw_boxes(img):\n",
    "    color = [255,0,0]\n",
    "    width = 3\n",
    "    \n",
    "    for x1, y1, x2, y2 in boxes:\n",
    "        img = cv2.rectangle(img, (x1,y1),(x2,y2), color, width)\n",
    "        \n",
    "    return img\n",
    "\n",
    "# Проверка на нахождение конктретных объектов в исследумой области\n",
    "def check_coords(x,y,label):\n",
    "    if label not in ['car','truck','bus','motorbike']:\n",
    "        return False\n",
    "    \n",
    "    for x1, y1, x2, y2 in boxes:\n",
    "        if x1 <= x <= x2 and y1 <= y <= y2:\n",
    "            return True\n",
    "    return False\n",
    "\n",
    "# Выделение прямоугольником объектов\n",
    "def draw_object(img, x,y,w,h, label, success):\n",
    "    x1, y1 = x-w//2, y-h//2\n",
    "    x2, y2 = x+w//2, y+h//2\n",
    "    color = [0,255,0] if success else [0,0,255]\n",
    "    width = 2\n",
    "    \n",
    "    img = cv2.rectangle(img, (x1,y1),(x2,y2), color, width)\n",
    "    \n",
    "    font_size = 1 \n",
    "    font = cv2.FONT_HERSHEY_SIMPLEX\n",
    "    text = label\n",
    "    \n",
    "    img = cv2.putText(img, text, (x1,y1-10), font, font_size, color, width)\n",
    "    \n",
    "    return img\n",
    "\n",
    "history = []\n",
    "\n",
    "# Подсчет машин на парковке\n",
    "def draw_cars_count(img, count):\n",
    "    history.append([time.time(),count])\n",
    "    timestamp = time.time() - 30\n",
    "    filtered_history = []\n",
    "    for t, c in history:\n",
    "        if t >= timestamp:\n",
    "            filtered_history.append(c)\n",
    "            \n",
    "    mid_count = int(sum(filtered_history)/len(filtered_history))\n",
    "    \n",
    "    color = [255,0,0]\n",
    "    width = 5\n",
    "    font_size = 3\n",
    "    font = cv2.FONT_HERSHEY_SIMPLEX\n",
    "    text = str(mid_count) + ' cars'\n",
    "    img = cv2.putText(img, text, (50,150), font, font_size, color, width)\n",
    "    \n",
    "    text = str(21-count) + ' free'\n",
    "    img = cv2.putText(img, text, (50,250), font, font_size, color, width)\n",
    "    \n",
    "    return img\n",
    "\n",
    "# Подача фото на вход CNN\n",
    "def apply_yolo(img):\n",
    "    height, width, _ = img.shape\n",
    "    blob = cv2.dnn.blobFromImage(img, 1/255, (608,608),(0,0,0), swapRB=True)\n",
    "    net.setInput(blob)\n",
    "    out_layers = net.forward(out_layers_names)\n",
    "    object_boxes = []\n",
    "    object_probas = []\n",
    "    object_labels = []\n",
    "\n",
    "    for layer in out_layers:\n",
    "        for result in layer:\n",
    "            x, y, w, h = result[:4]\n",
    "            x = int(x*width)\n",
    "            w = int(w*width)\n",
    "            y = int(y*height)\n",
    "            h = int(h*height)\n",
    "            probas = result[5:]\n",
    "            max_proba_index = np.argmax(probas)\n",
    "            max_proba = probas[max_proba_index]\n",
    "            if max_proba > 0:\n",
    "                object_boxes.append([x, y, w, h])\n",
    "                object_probas.append(float(max_proba))\n",
    "                object_labels.append(labels[max_proba_index])\n",
    "                \n",
    "    filtered_boxes_indexes = cv2.dnn.NMSBoxes(object_boxes, object_probas, 0, 0.27)\n",
    "    \n",
    "    img = draw_boxes(img)\n",
    "    success_count = 0 \n",
    "    \n",
    "    for index_arr in filtered_boxes_indexes:\n",
    "        index = index_arr[0]\n",
    "        box = object_boxes[index]\n",
    "        x, y, w, h = box\n",
    "        success = check_coords(x, y, object_labels[index])\n",
    "        img = draw_object(img, x, y, w, h, object_labels[index], success)\n",
    "        if success:\n",
    "            success_count += 1\n",
    "            \n",
    "    img = draw_cars_count(img, success_count)\n",
    "    \n",
    "    return img"
   ]
  },
  {
   "cell_type": "code",
   "execution_count": 1,
   "id": "d2d4d69b",
   "metadata": {
    "scrolled": false
   },
   "outputs": [
    {
     "ename": "NameError",
     "evalue": "name 'cv2' is not defined",
     "output_type": "error",
     "traceback": [
      "\u001b[1;31m---------------------------------------------------------------------------\u001b[0m",
      "\u001b[1;31mNameError\u001b[0m                                 Traceback (most recent call last)",
      "\u001b[1;32m<ipython-input-1-6bef10ccd39d>\u001b[0m in \u001b[0;36m<module>\u001b[1;34m\u001b[0m\n\u001b[0;32m      1\u001b[0m \u001b[1;31m# Считывание кадров со стрима\u001b[0m\u001b[1;33m\u001b[0m\u001b[1;33m\u001b[0m\u001b[1;33m\u001b[0m\u001b[0m\n\u001b[0;32m      2\u001b[0m \u001b[1;32mfor\u001b[0m \u001b[0mi\u001b[0m \u001b[1;32min\u001b[0m \u001b[0mrange\u001b[0m\u001b[1;33m(\u001b[0m\u001b[1;36m10\u001b[0m\u001b[1;33m)\u001b[0m\u001b[1;33m:\u001b[0m\u001b[1;33m\u001b[0m\u001b[1;33m\u001b[0m\u001b[0m\n\u001b[1;32m----> 3\u001b[1;33m     \u001b[0mcap\u001b[0m \u001b[1;33m=\u001b[0m \u001b[0mcv2\u001b[0m\u001b[1;33m.\u001b[0m\u001b[0mVideoCapture\u001b[0m\u001b[1;33m(\u001b[0m\u001b[1;34m'http://96.66.39.30:8090/cgi-bin/faststream.jpg'\u001b[0m\u001b[1;33m)\u001b[0m\u001b[1;33m\u001b[0m\u001b[1;33m\u001b[0m\u001b[0m\n\u001b[0m\u001b[0;32m      4\u001b[0m \u001b[1;33m\u001b[0m\u001b[0m\n\u001b[0;32m      5\u001b[0m     \u001b[1;32mwhile\u001b[0m \u001b[0mcap\u001b[0m\u001b[1;33m.\u001b[0m\u001b[0misOpened\u001b[0m\u001b[1;33m(\u001b[0m\u001b[1;33m)\u001b[0m\u001b[1;33m:\u001b[0m\u001b[1;33m\u001b[0m\u001b[1;33m\u001b[0m\u001b[0m\n",
      "\u001b[1;31mNameError\u001b[0m: name 'cv2' is not defined"
     ]
    }
   ],
   "source": [
    "# Считывание кадров со стрима\n",
    "for i in range(10):\n",
    "    cap = cv2.VideoCapture('http://96.66.39.30:8090/cgi-bin/faststream.jpg')\n",
    "\n",
    "    while cap.isOpened():\n",
    "        ret, frame = cap.read()\n",
    "        if not ret:\n",
    "            break\n",
    "        frame = cv2.rectangle(frame, (760,560),(1080,780), [0,0,0], thickness = -1)   \n",
    "        frame = apply_yolo(frame)\n",
    "        frame = cv2.cvtColor(frame, cv2.COLOR_BGR2RGB)\n",
    "\n",
    "\n",
    "        pyplot.figure(figsize=(20,15))\n",
    "        pyplot.imshow(frame)\n",
    "        display.clear_output(wait=True)\n",
    "        display.display(pyplot.gcf())        \n",
    "\n",
    "    cap.release()"
   ]
  },
  {
   "cell_type": "code",
   "execution_count": null,
   "id": "4697174f",
   "metadata": {},
   "outputs": [],
   "source": []
  }
 ],
 "metadata": {
  "kernelspec": {
   "display_name": "Python 3",
   "language": "python",
   "name": "python3"
  },
  "language_info": {
   "codemirror_mode": {
    "name": "ipython",
    "version": 3
   },
   "file_extension": ".py",
   "mimetype": "text/x-python",
   "name": "python",
   "nbconvert_exporter": "python",
   "pygments_lexer": "ipython3",
   "version": "3.7.6"
  }
 },
 "nbformat": 4,
 "nbformat_minor": 5
}
